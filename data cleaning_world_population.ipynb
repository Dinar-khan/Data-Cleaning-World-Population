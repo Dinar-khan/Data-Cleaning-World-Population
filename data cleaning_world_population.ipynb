{
 "cells": [
  {
   "cell_type": "code",
   "execution_count": 96,
   "id": "8c49f360",
   "metadata": {},
   "outputs": [],
   "source": [
    "# imports \n",
    "import pandas as pd\n",
    "import numpy as np"
   ]
  },
  {
   "cell_type": "code",
   "execution_count": null,
   "id": "fc0f0c3a",
   "metadata": {},
   "outputs": [],
   "source": []
  },
  {
   "cell_type": "code",
   "execution_count": 2,
   "id": "c4271761",
   "metadata": {},
   "outputs": [
    {
     "data": {
      "text/html": [
       "<div>\n",
       "<style scoped>\n",
       "    .dataframe tbody tr th:only-of-type {\n",
       "        vertical-align: middle;\n",
       "    }\n",
       "\n",
       "    .dataframe tbody tr th {\n",
       "        vertical-align: top;\n",
       "    }\n",
       "\n",
       "    .dataframe thead th {\n",
       "        text-align: right;\n",
       "    }\n",
       "</style>\n",
       "<table border=\"1\" class=\"dataframe\">\n",
       "  <thead>\n",
       "    <tr style=\"text-align: right;\">\n",
       "      <th></th>\n",
       "      <th>Unnamed: 0</th>\n",
       "      <th>country name</th>\n",
       "      <th>current population</th>\n",
       "      <th>population 2022</th>\n",
       "      <th>area</th>\n",
       "      <th>land area</th>\n",
       "      <th>density</th>\n",
       "      <th>growth rate</th>\n",
       "      <th>world percentage</th>\n",
       "      <th>rank</th>\n",
       "    </tr>\n",
       "  </thead>\n",
       "  <tbody>\n",
       "    <tr>\n",
       "      <th>0</th>\n",
       "      <td>0</td>\n",
       "      <td>India</td>\n",
       "      <td>1,423,261,773</td>\n",
       "      <td>1,417,173,173</td>\n",
       "      <td>3.3M</td>\n",
       "      <td>3M</td>\n",
       "      <td>481</td>\n",
       "      <td>0.81%</td>\n",
       "      <td>17.85%</td>\n",
       "      <td>1</td>\n",
       "    </tr>\n",
       "    <tr>\n",
       "      <th>1</th>\n",
       "      <td>1</td>\n",
       "      <td>China</td>\n",
       "      <td>1,425,816,272</td>\n",
       "      <td>1,425,887,337</td>\n",
       "      <td>9.7M</td>\n",
       "      <td>9.4M</td>\n",
       "      <td>151</td>\n",
       "      <td>-0.02%</td>\n",
       "      <td>17.81%</td>\n",
       "      <td>2</td>\n",
       "    </tr>\n",
       "    <tr>\n",
       "      <th>2</th>\n",
       "      <td>2</td>\n",
       "      <td>United States</td>\n",
       "      <td>339,251,443</td>\n",
       "      <td>338,289,857</td>\n",
       "      <td>9.4M</td>\n",
       "      <td>9.1M</td>\n",
       "      <td>37</td>\n",
       "      <td>0.50%</td>\n",
       "      <td>4.25%</td>\n",
       "      <td>3</td>\n",
       "    </tr>\n",
       "    <tr>\n",
       "      <th>3</th>\n",
       "      <td>3</td>\n",
       "      <td>Indonesia</td>\n",
       "      <td>276,601,760</td>\n",
       "      <td>275,501,339</td>\n",
       "      <td>1.9M</td>\n",
       "      <td>1.9M</td>\n",
       "      <td>148</td>\n",
       "      <td>0.74%</td>\n",
       "      <td>3.47%</td>\n",
       "      <td>4</td>\n",
       "    </tr>\n",
       "    <tr>\n",
       "      <th>4</th>\n",
       "      <td>4</td>\n",
       "      <td>Pakistan</td>\n",
       "      <td>238,568,353</td>\n",
       "      <td>235,824,862</td>\n",
       "      <td>881.9K</td>\n",
       "      <td>770.9K</td>\n",
       "      <td>312</td>\n",
       "      <td>1.98%</td>\n",
       "      <td>3.00%</td>\n",
       "      <td>5</td>\n",
       "    </tr>\n",
       "    <tr>\n",
       "      <th>...</th>\n",
       "      <td>...</td>\n",
       "      <td>...</td>\n",
       "      <td>...</td>\n",
       "      <td>...</td>\n",
       "      <td>...</td>\n",
       "      <td>...</td>\n",
       "      <td>...</td>\n",
       "      <td>...</td>\n",
       "      <td>...</td>\n",
       "      <td>...</td>\n",
       "    </tr>\n",
       "    <tr>\n",
       "      <th>200</th>\n",
       "      <td>200</td>\n",
       "      <td>San Marino</td>\n",
       "      <td>33,642</td>\n",
       "      <td>33,660</td>\n",
       "      <td>61</td>\n",
       "      <td>60</td>\n",
       "      <td>561</td>\n",
       "      <td>-0.05%</td>\n",
       "      <td>0.00%</td>\n",
       "      <td>218</td>\n",
       "    </tr>\n",
       "    <tr>\n",
       "      <th>201</th>\n",
       "      <td>201</td>\n",
       "      <td>Palau</td>\n",
       "      <td>18,058</td>\n",
       "      <td>18,055</td>\n",
       "      <td>459</td>\n",
       "      <td>460</td>\n",
       "      <td>39</td>\n",
       "      <td>0.02%</td>\n",
       "      <td>0.00%</td>\n",
       "      <td>222</td>\n",
       "    </tr>\n",
       "    <tr>\n",
       "      <th>202</th>\n",
       "      <td>202</td>\n",
       "      <td>Nauru</td>\n",
       "      <td>12,780</td>\n",
       "      <td>12,668</td>\n",
       "      <td>21</td>\n",
       "      <td>20</td>\n",
       "      <td>639</td>\n",
       "      <td>0.88%</td>\n",
       "      <td>0.00%</td>\n",
       "      <td>225</td>\n",
       "    </tr>\n",
       "    <tr>\n",
       "      <th>203</th>\n",
       "      <td>203</td>\n",
       "      <td>Tuvalu</td>\n",
       "      <td>11,396</td>\n",
       "      <td>11,312</td>\n",
       "      <td>26</td>\n",
       "      <td>30</td>\n",
       "      <td>380</td>\n",
       "      <td>0.74%</td>\n",
       "      <td>0.00%</td>\n",
       "      <td>227</td>\n",
       "    </tr>\n",
       "    <tr>\n",
       "      <th>204</th>\n",
       "      <td>204</td>\n",
       "      <td>Vatican City</td>\n",
       "      <td>518</td>\n",
       "      <td>510</td>\n",
       "      <td>&lt; 1</td>\n",
       "      <td>&lt; 1</td>\n",
       "      <td>1,177</td>\n",
       "      <td>1.57%</td>\n",
       "      <td>NaN</td>\n",
       "      <td>234</td>\n",
       "    </tr>\n",
       "  </tbody>\n",
       "</table>\n",
       "<p>205 rows × 10 columns</p>\n",
       "</div>"
      ],
      "text/plain": [
       "     Unnamed: 0   country name current population population 2022    area  \\\n",
       "0             0          India      1,423,261,773   1,417,173,173    3.3M   \n",
       "1             1          China      1,425,816,272   1,425,887,337    9.7M   \n",
       "2             2  United States        339,251,443     338,289,857    9.4M   \n",
       "3             3      Indonesia        276,601,760     275,501,339    1.9M   \n",
       "4             4       Pakistan        238,568,353     235,824,862  881.9K   \n",
       "..          ...            ...                ...             ...     ...   \n",
       "200         200     San Marino             33,642          33,660      61   \n",
       "201         201          Palau             18,058          18,055     459   \n",
       "202         202          Nauru             12,780          12,668      21   \n",
       "203         203         Tuvalu             11,396          11,312      26   \n",
       "204         204   Vatican City                518             510     < 1   \n",
       "\n",
       "    land area density growth rate world percentage  rank  \n",
       "0          3M     481       0.81%           17.85%     1  \n",
       "1        9.4M     151      -0.02%           17.81%     2  \n",
       "2        9.1M      37       0.50%            4.25%     3  \n",
       "3        1.9M     148       0.74%            3.47%     4  \n",
       "4      770.9K     312       1.98%            3.00%     5  \n",
       "..        ...     ...         ...              ...   ...  \n",
       "200        60     561      -0.05%            0.00%   218  \n",
       "201       460      39       0.02%            0.00%   222  \n",
       "202        20     639       0.88%            0.00%   225  \n",
       "203        30     380       0.74%            0.00%   227  \n",
       "204       < 1   1,177       1.57%              NaN   234  \n",
       "\n",
       "[205 rows x 10 columns]"
      ]
     },
     "execution_count": 2,
     "metadata": {},
     "output_type": "execute_result"
    }
   ],
   "source": [
    "# read the csv file\n",
    "df = pd.read_csv('world_population2023.csv')\n",
    "df\n"
   ]
  },
  {
   "cell_type": "code",
   "execution_count": null,
   "id": "c568ae7d",
   "metadata": {},
   "outputs": [],
   "source": []
  },
  {
   "cell_type": "markdown",
   "id": "b9c36c28",
   "metadata": {},
   "source": [
    "#### steps to take while cleaning data are.\n",
    "1. delete unnecessary column i.e. Unnamed:0\n",
    "2. Remane all columns so that there is easiness in writing.\n",
    "3. change datatype of certain columns. \n",
    "4. Deal with only one null value.\n"
   ]
  },
  {
   "cell_type": "code",
   "execution_count": 3,
   "id": "c82e7767",
   "metadata": {},
   "outputs": [],
   "source": [
    "# drop column\n",
    "df.drop(\"Unnamed: 0\", axis=1, inplace=True)"
   ]
  },
  {
   "cell_type": "code",
   "execution_count": 84,
   "id": "7d31f033",
   "metadata": {},
   "outputs": [],
   "source": [
    "data = df.rename(columns = {'country name':'Country',\n",
    "                     'current population':'Population_23',\n",
    "                    'population 2022':'Population_22',\n",
    "                    'area':'area_all',\n",
    "                    'land area':'Land',\n",
    "                    'density':'Density',\n",
    "                    'growth rate':'Growth_rate',\n",
    "                    'world percentage':'Ratio',\n",
    "                    'rank':'rank'})"
   ]
  },
  {
   "cell_type": "code",
   "execution_count": 85,
   "id": "62cd4e54",
   "metadata": {},
   "outputs": [
    {
     "name": "stdout",
     "output_type": "stream",
     "text": [
      "Index(['Country', 'Population_23', 'Population_22', 'area_all', 'Land',\n",
      "       'Density', 'Growth_rate', 'Ratio', 'rank'],\n",
      "      dtype='object')\n"
     ]
    }
   ],
   "source": [
    "print(data.columns)"
   ]
  },
  {
   "cell_type": "code",
   "execution_count": 107,
   "id": "56935ef0",
   "metadata": {},
   "outputs": [],
   "source": [
    "# change data type of population 23\n",
    "data['Population_23'] = data['Population_23'].str.replace(',','')\n",
    "data['Population_23'] = data['Population_23'].astype(int)\n",
    "\n"
   ]
  },
  {
   "cell_type": "code",
   "execution_count": 106,
   "id": "eac1f871",
   "metadata": {},
   "outputs": [],
   "source": [
    "# data type population 22\n",
    "data['Population_22'] = data['Population_22'].str.replace(',','')\n",
    "data['Population_22'] = data['Population_22'].astype(int)"
   ]
  },
  {
   "cell_type": "code",
   "execution_count": 105,
   "id": "47ed407b",
   "metadata": {},
   "outputs": [],
   "source": [
    "# area\n",
    "data['area_all']=data['area_all'].str.replace('M','000000')\n",
    "data['area_all']=data['area_all'].str.replace('K','000')\n",
    "data['area_all']=data['area_all'].str.replace('< 1','1')\n",
    "\n",
    "data['area_all']=data['area_all'].astype(float)"
   ]
  },
  {
   "cell_type": "code",
   "execution_count": 102,
   "id": "be1e964c",
   "metadata": {},
   "outputs": [],
   "source": [
    "# Land\n",
    "data['Land']=data['Land'].str.replace('M','000000')\n",
    "data['Land']=data['Land'].str.replace('K','000')\n",
    "data['Land']=data['Land'].str.replace('<','1')\n",
    "data['Land']=data['Land'].astype('float')"
   ]
  },
  {
   "cell_type": "code",
   "execution_count": 109,
   "id": "29308114",
   "metadata": {},
   "outputs": [],
   "source": [
    "# Density\n",
    "data[\"Density\"] = data[\"Density\"].str.replace(',','')\n",
    "data[\"Density\"] = data[\"Density\"].astype(float)\n"
   ]
  },
  {
   "cell_type": "code",
   "execution_count": null,
   "id": "67af777a",
   "metadata": {},
   "outputs": [],
   "source": []
  },
  {
   "cell_type": "code",
   "execution_count": 89,
   "id": "0522cb6f",
   "metadata": {},
   "outputs": [],
   "source": [
    "#Ratio\n",
    "data['Ratio'] = data['Ratio'].str.replace('%','')\n",
    "data['Ratio'] = data['Ratio'].astype(float)"
   ]
  },
  {
   "cell_type": "code",
   "execution_count": 91,
   "id": "8dbc7954",
   "metadata": {},
   "outputs": [],
   "source": [
    "# growth rate\n",
    "data['Growth_rate'] = data['Growth_rate'].str.replace('%','')\n",
    "data['Growth_rate'] = data['Growth_rate'].astype(float)"
   ]
  },
  {
   "cell_type": "code",
   "execution_count": 108,
   "id": "14e9d9b2",
   "metadata": {},
   "outputs": [
    {
     "name": "stdout",
     "output_type": "stream",
     "text": [
      "<class 'pandas.core.frame.DataFrame'>\n",
      "RangeIndex: 205 entries, 0 to 204\n",
      "Data columns (total 9 columns):\n",
      " #   Column         Non-Null Count  Dtype  \n",
      "---  ------         --------------  -----  \n",
      " 0   Country        205 non-null    object \n",
      " 1   Population_23  205 non-null    int32  \n",
      " 2   Population_22  205 non-null    int32  \n",
      " 3   area_all       205 non-null    float64\n",
      " 4   Land           205 non-null    float64\n",
      " 5   Density        205 non-null    float64\n",
      " 6   Growth_rate    205 non-null    float64\n",
      " 7   Ratio          204 non-null    float64\n",
      " 8   rank           205 non-null    int64  \n",
      "dtypes: float64(5), int32(2), int64(1), object(1)\n",
      "memory usage: 12.9+ KB\n"
     ]
    }
   ],
   "source": [
    "data.info()"
   ]
  },
  {
   "cell_type": "code",
   "execution_count": null,
   "id": "f49d1246",
   "metadata": {},
   "outputs": [],
   "source": []
  },
  {
   "cell_type": "code",
   "execution_count": null,
   "id": "fe9d6447",
   "metadata": {},
   "outputs": [],
   "source": []
  },
  {
   "cell_type": "code",
   "execution_count": null,
   "id": "22663eec",
   "metadata": {},
   "outputs": [],
   "source": []
  }
 ],
 "metadata": {
  "kernelspec": {
   "display_name": "Python 3 (ipykernel)",
   "language": "python",
   "name": "python3"
  },
  "language_info": {
   "codemirror_mode": {
    "name": "ipython",
    "version": 3
   },
   "file_extension": ".py",
   "mimetype": "text/x-python",
   "name": "python",
   "nbconvert_exporter": "python",
   "pygments_lexer": "ipython3",
   "version": "3.9.7"
  }
 },
 "nbformat": 4,
 "nbformat_minor": 5
}
